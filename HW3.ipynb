{
  "nbformat": 4,
  "nbformat_minor": 0,
  "metadata": {
    "colab": {
      "name": "HW3.ipynb",
      "provenance": [],
      "collapsed_sections": [],
      "toc_visible": true
    },
    "kernelspec": {
      "display_name": "Python 3",
      "language": "python",
      "name": "python3"
    },
    "language_info": {
      "codemirror_mode": {
        "name": "ipython",
        "version": 3
      },
      "file_extension": ".py",
      "mimetype": "text/x-python",
      "name": "python",
      "nbconvert_exporter": "python",
      "pygments_lexer": "ipython3",
      "version": "3.8.1"
    }
  },
  "cells": [
    {
      "cell_type": "markdown",
      "metadata": {
        "colab_type": "text",
        "id": "BxtreUAPraI-"
      },
      "source": [
        "#**HW 3: Convolutional Neural Networks**\n",
        "\n",
        "In this homework, we will explore how to develop a simple Convolutional Neural Network for image classification. We will use the same dataset that we used in the previous exercise, the Fashion Minst. In the first part, we will learn how to develop a simple CNN, while in the second part we will explore the impact of various hyper-parameters in the learning performances."
      ]
    },
    {
      "cell_type": "markdown",
      "metadata": {
        "colab_type": "text",
        "id": "CRwTPJt3rxug"
      },
      "source": [
        "##Exercise 3.1: Simple CNN\n",
        "\n",
        "Let's start by importing Tensorflow, Keras and Numpy"
      ]
    },
    {
      "cell_type": "code",
      "metadata": {
        "colab_type": "code",
        "id": "seDcv-RvrUpM",
        "colab": {}
      },
      "source": [
        "import tensorflow as tf\n",
        "from tensorflow import keras\n",
        "import matplotlib.pyplot as plt\n",
        "import numpy as np\n",
        "\n",
        "np.random.seed(42)"
      ],
      "execution_count": null,
      "outputs": []
    },
    {
      "cell_type": "markdown",
      "metadata": {
        "colab_type": "text",
        "id": "UxWbaR_HsPYp"
      },
      "source": [
        "###Load dataset:\n",
        "Load the Fashion Minst dataset as we did in the previous homework. As you already know Fashion Minst dataset contains grayscale images, and the task consists of classifying the images in the ten classes. As we did in HW2 we have to divide the dataset in training test and validation set. Since we will use a [2DConv](https://www.tensorflow.org/api_docs/python/tf/keras/layers/Conv2D) we have to provide also a new dimension of the input that represents the number of channels (that in ggreyscaleimage is just one). Therefore we [tf.expand_dims](https://) dim to do that. Finaly, as we did in HW2 we have to normalize the input data."
      ]
    },
    {
      "cell_type": "code",
      "metadata": {
        "colab_type": "code",
        "id": "8QQy37jnsH_e",
        "colab": {
          "base_uri": "https://localhost:8080/",
          "height": 150
        },
        "outputId": "f4333407-f0ae-4f04-c61d-339bf5b5cab8"
      },
      "source": [
        "fashion_mnist = keras.datasets.fashion_mnist\n",
        "(X_train_full, y_train_full), (X_test, y_test) = (\n",
        "    fashion_mnist.load_data()) #The dataset is already divede in test and training..\n",
        "\n",
        "#Normalize the data\n",
        "pixel_means = X_train_full.mean(axis = 0)\n",
        "pixel_stds = X_test.std(axis = 0)\n",
        "\n",
        "X_train_full = (X_train_full - pixel_means) / pixel_stds\n",
        "X_test = (X_test - pixel_means) / pixel_stds \n",
        "\n",
        "#Add one dimension to manage the channel\n",
        "X_train_full=tf.expand_dims(X_train_full, 3) \n",
        "X_test=tf.expand_dims(X_test,3)\n",
        "\n",
        "#Extract the first 5000 samples of the training set, to use them as the validation set\n",
        "X_valid, X_train = X_train_full[:5000], X_train_full[5000:] \n",
        "y_valid, y_train = y_train_full[:5000], y_train_full[5000:]\n",
        "\n",
        "class_names = [\"T-shirt/top\", \"Trouser\", \"Pullover\", \"Dress\", \"Coat\",\n",
        "               \"Sandal\", \"Shirt\", \"Sneaker\", \"Bag\", \"Ankle boot\"]\n"
      ],
      "execution_count": null,
      "outputs": [
        {
          "output_type": "stream",
          "text": [
            "Downloading data from https://storage.googleapis.com/tensorflow/tf-keras-datasets/train-labels-idx1-ubyte.gz\n",
            "32768/29515 [=================================] - 0s 0us/step\n",
            "Downloading data from https://storage.googleapis.com/tensorflow/tf-keras-datasets/train-images-idx3-ubyte.gz\n",
            "26427392/26421880 [==============================] - 0s 0us/step\n",
            "Downloading data from https://storage.googleapis.com/tensorflow/tf-keras-datasets/t10k-labels-idx1-ubyte.gz\n",
            "8192/5148 [===============================================] - 0s 0us/step\n",
            "Downloading data from https://storage.googleapis.com/tensorflow/tf-keras-datasets/t10k-images-idx3-ubyte.gz\n",
            "4423680/4422102 [==============================] - 0s 0us/step\n"
          ],
          "name": "stdout"
        }
      ]
    },
    {
      "cell_type": "markdown",
      "metadata": {
        "colab_type": "text",
        "id": "mhWYkFmQsNm5"
      },
      "source": [
        "###Define the model\n",
        "\n",
        "Let's create a simple CNN. The model will be composed of:\n",
        "* One 2D convolutional layer with kernel size 3x3 and 32 output filters/features, that use ReLu activation function\n",
        "* a Max Pooling layer (2D) of size 2x2 ([MaxPool2D](https://www.tensorflow.org/api_docs/python/tf/keras/layers/MaxPool2D))\n",
        "* a Flatten layer\n",
        "* the output layer,  the same we used in HW2 (that use softmax function)\n",
        "Note that as 'input_shape' attribute's value in the first layer report also the third dimension that represents the channel."
      ]
    },
    {
      "cell_type": "code",
      "metadata": {
        "colab_type": "code",
        "id": "paLpCd7XsOYs",
        "colab": {}
      },
      "source": [
        "model = keras.models.Sequential([\n",
        "    keras.layers.Conv2D(filters=32, kernel_size=[3,3], padding=\"same\", activation=\"relu\", input_shape=[28, 28,1]),\n",
        "    keras.layers.MaxPool2D(pool_size=[2,2]),\n",
        "    keras.layers.Flatten(),\n",
        "    keras.layers.Dense(10, activation=\"softmax\")\n",
        "])\n",
        "model.compile(loss=\"sparse_categorical_crossentropy\",\n",
        "              optimizer='sgd',\n",
        "              metrics=[\"accuracy\"])\n"
      ],
      "execution_count": null,
      "outputs": []
    },
    {
      "cell_type": "markdown",
      "metadata": {
        "colab_type": "text",
        "id": "bdnAR5KzssZk"
      },
      "source": [
        "Print the model summary"
      ]
    },
    {
      "cell_type": "code",
      "metadata": {
        "colab_type": "code",
        "id": "ga-UGdspsslW",
        "colab": {
          "base_uri": "https://localhost:8080/",
          "height": 284
        },
        "outputId": "46b1bf96-12fa-429a-b49a-bfd4fe224ee3"
      },
      "source": [
        "model.summary()"
      ],
      "execution_count": null,
      "outputs": [
        {
          "output_type": "stream",
          "text": [
            "Model: \"sequential\"\n",
            "_________________________________________________________________\n",
            "Layer (type)                 Output Shape              Param #   \n",
            "=================================================================\n",
            "conv2d (Conv2D)              (None, 28, 28, 32)        320       \n",
            "_________________________________________________________________\n",
            "max_pooling2d (MaxPooling2D) (None, 14, 14, 32)        0         \n",
            "_________________________________________________________________\n",
            "flatten (Flatten)            (None, 6272)              0         \n",
            "_________________________________________________________________\n",
            "dense (Dense)                (None, 10)                62730     \n",
            "=================================================================\n",
            "Total params: 63,050\n",
            "Trainable params: 63,050\n",
            "Non-trainable params: 0\n",
            "_________________________________________________________________\n"
          ],
          "name": "stdout"
        }
      ]
    },
    {
      "cell_type": "markdown",
      "metadata": {
        "colab_type": "text",
        "id": "11S83_J0MIqb"
      },
      "source": [
        "Note that the number of parameters mostly depends on the output layers, indeed the sharing parameters techinique used by the 2D convolutional layers allows to significantly reduce the number of learnable weights.\n",
        "Now we can train the model"
      ]
    },
    {
      "cell_type": "code",
      "metadata": {
        "colab_type": "code",
        "id": "57aZ0KRGM7kY",
        "colab": {
          "base_uri": "https://localhost:8080/",
          "height": 371
        },
        "outputId": "03685136-0c74-4eae-8ec6-b18a6bd3c5cd"
      },
      "source": [
        "history = model.fit(X_train, y_train, epochs=10, batch_size=128,\n",
        "                    validation_data=(X_valid, y_valid))"
      ],
      "execution_count": null,
      "outputs": [
        {
          "output_type": "stream",
          "text": [
            "Epoch 1/10\n",
            "430/430 [==============================] - 26s 60ms/step - loss: 0.7140 - accuracy: 0.7631 - val_loss: 0.4993 - val_accuracy: 0.8332\n",
            "Epoch 2/10\n",
            "430/430 [==============================] - 25s 59ms/step - loss: 0.4676 - accuracy: 0.8380 - val_loss: 0.4417 - val_accuracy: 0.8548\n",
            "Epoch 3/10\n",
            "430/430 [==============================] - 25s 59ms/step - loss: 0.4199 - accuracy: 0.8545 - val_loss: 0.4104 - val_accuracy: 0.8622\n",
            "Epoch 4/10\n",
            "430/430 [==============================] - 25s 59ms/step - loss: 0.3923 - accuracy: 0.8638 - val_loss: 0.3929 - val_accuracy: 0.8702\n",
            "Epoch 5/10\n",
            "430/430 [==============================] - 25s 59ms/step - loss: 0.3733 - accuracy: 0.8700 - val_loss: 0.3710 - val_accuracy: 0.8748\n",
            "Epoch 6/10\n",
            "430/430 [==============================] - 25s 59ms/step - loss: 0.3596 - accuracy: 0.8742 - val_loss: 0.3639 - val_accuracy: 0.8802\n",
            "Epoch 7/10\n",
            "430/430 [==============================] - 25s 59ms/step - loss: 0.3478 - accuracy: 0.8794 - val_loss: 0.3566 - val_accuracy: 0.8806\n",
            "Epoch 8/10\n",
            "430/430 [==============================] - 25s 59ms/step - loss: 0.3386 - accuracy: 0.8817 - val_loss: 0.3503 - val_accuracy: 0.8858\n",
            "Epoch 9/10\n",
            "430/430 [==============================] - 25s 59ms/step - loss: 0.3305 - accuracy: 0.8848 - val_loss: 0.3501 - val_accuracy: 0.8816\n",
            "Epoch 10/10\n",
            "430/430 [==============================] - 25s 59ms/step - loss: 0.3234 - accuracy: 0.8870 - val_loss: 0.3489 - val_accuracy: 0.8846\n"
          ],
          "name": "stdout"
        }
      ]
    },
    {
      "cell_type": "markdown",
      "metadata": {
        "colab_type": "text",
        "id": "xfPHQGs6M8AE"
      },
      "source": [
        "Plot the loss and the accuracy trends for the training and validation set, Then compute the result on the test set."
      ]
    },
    {
      "cell_type": "code",
      "metadata": {
        "colab_type": "code",
        "id": "yVD4jB7ZMK5z",
        "colab": {}
      },
      "source": [
        "def plot_loss(history):\n",
        "    plt.figure(figsize=(10,6))\n",
        "    plt.plot(history.epoch,history.history['loss'])\n",
        "    plt.plot(history.epoch,history.history['val_loss'])\n",
        "    plt.title('loss')\n",
        "\n",
        "def plot_accuracy(history):\n",
        "    plt.figure(figsize=(10,6))\n",
        "    plt.plot(history.epoch,history.history['accuracy'])\n",
        "    plt.plot(history.epoch,history.history['val_accuracy'])\n",
        "    plt.title('accuracy')\n",
        "\n",
        "def pl(histroy):\n",
        "    plot_loss(history)\n",
        "\n",
        "    plot_accuracy(history)\n",
        "\n",
        "    scores = model.evaluate(X_test, y_test, verbose=2)\n",
        "    print(\"%s: %.2f%%\" % (model.metrics_names[1], scores[1]*100))"
      ],
      "execution_count": null,
      "outputs": []
    },
    {
      "cell_type": "markdown",
      "metadata": {
        "colab_type": "text",
        "id": "j5wOQymFYZjA"
      },
      "source": [
        "###Visualize Weights\n",
        "\n",
        "An interesting thing is to visualize the learned weights for the convolutional layer. We have 32 kernels of size 3x3, we can just plot them as images, mapping the weight values to grayscale."
      ]
    },
    {
      "cell_type": "code",
      "metadata": {
        "colab_type": "code",
        "id": "EXHiS8VyY6pg",
        "colab": {
          "base_uri": "https://localhost:8080/",
          "height": 237
        },
        "outputId": "7da42352-eab3-4fb5-c730-da7fe819da1b"
      },
      "source": [
        "# Weights for the first convolutional layer\n",
        "w0=model.get_weights()[0][:,:,0,:]\n",
        "\n",
        "# Normalize to range 0.0 - 1.0\n",
        "w0-=np.min(w0)\n",
        "w0/=np.max(w0)\n",
        "\n",
        "for r in range(4):\n",
        "    for c in range(8):\n",
        "        n=r*8+c\n",
        "        plt.subplot(4, 8, n+1)\n",
        "        plt.imshow(w0[:,:,n], interpolation='none')\n",
        "        plt.axis('off')\n",
        "        plt.gray()\n",
        "plt.show()"
      ],
      "execution_count": null,
      "outputs": [
        {
          "output_type": "display_data",
          "data": {
            "image/png": "[encoded data removed]",
            "text/plain": [
              "<Figure size 432x288 with 32 Axes>"
            ]
          },
          "metadata": {
            "tags": [],
            "needs_background": "light"
          }
        }
      ]
    },
    {
      "cell_type": "markdown",
      "metadata": {
        "colab_type": "text",
        "id": "OsFQRbx3ZWtp"
      },
      "source": [
        "They might be a bit hard to interpret, but it seems that the various filters have learned to detect various corners and edges."
      ]
    },
    {
      "cell_type": "markdown",
      "metadata": {
        "colab_type": "text",
        "id": "-bOYmnXgZXi4"
      },
      "source": [
        "## Exercise 3.2: Develop a better CNN\n",
        "Let's develop a network that performs better than the very simple one above. This exercise aims to explore how much the various hyper-parameters influence the classification capability of the model. \n",
        "\n",
        "**To Complete**: Your task is to do some reparametrizations of the previous exercise's network and compare the results. At least one of them should have an improvement in the test set result (generalization) than the result of the model used in the previous exercise.\n",
        "In the cell below report only the code of the **best model** that you can find. In addtion, print out its result on the test set, and plot the accuracy and the loss trends in the notebook you return.\n",
        "Moreover, for each setup you test, analyze and discuss the obtained results briefly in the last cells in the bottom.\n",
        "\n",
        "Hint: Each reparameterization should change a different aspect in the network, while the rest of the parameters would stay the same. \n",
        "Example parameters to try to change (we suggest to test at least one re-parametrization for each of these categories):\n",
        "\n",
        "*    number of layers or neurons or filters dimension\n",
        "*   activation functions\n",
        "*   epochs\n",
        "*   batch sizes\n",
        "*   optimizer, see TensorFlow documentation on [optimizers](https://https://www.tensorflow.org/api_docs/python/tf/keras/optimizers)\n",
        "*   max-pooling on/off on certain layers, or pool size\n",
        "\n",
        "For what concerns the optimizer, as you can see in the 'compile' method [documentation'](https://www.tensorflow.org/api_docs/python/tf/keras/Model#compile) is it possible to pass as 'optimizer ' attribute's value a string (the name of optimizer) or an optimizer instance.\n",
        "\n",
        "Notice that changing the final layer's softmax activation plus the categorical_crossentropy loss requires some consideration. Don't do it unless you have a good plan."
      ]
    },
    {
      "cell_type": "code",
      "metadata": {
        "colab_type": "code",
        "id": "IB-ZgfR5afs9",
        "colab": {
          "base_uri": "https://localhost:8080/",
          "height": 908
        },
        "outputId": "9a5b68bc-d20d-434e-b75b-b1e62793b7b8"
      },
      "source": [
        "model = keras.models.Sequential([\n",
        "    keras.layers.Conv2D(filters=32, kernel_size=[5,5], padding=\"same\", activation=\"relu\", input_shape=[28, 28,1]), \n",
        "    keras.layers.MaxPool2D(pool_size=[2,2]),\n",
        "    keras.layers.Conv2D(filters=64, kernel_size=[3,3], padding=\"same\", activation=\"relu\"), \n",
        "    keras.layers.MaxPool2D(pool_size=[2,2]),\n",
        "    keras.layers.Flatten(),\n",
        "    keras.layers.Dense(500, activation=\"relu\"),\n",
        "    keras.layers.Dense(200, activation=\"softmax\")\n",
        "])\n",
        "model.compile(loss=\"sparse_categorical_crossentropy\",\n",
        "              optimizer='sgd',\n",
        "              metrics=[\"accuracy\"])\n",
        "model.summary()\n",
        "history = model.fit(X_train, y_train, epochs=50, batch_size=16,\n",
        "                    validation_data=(X_valid, y_valid))\n",
        "pl(history)"
      ],
      "execution_count": null,
      "outputs": [
        {
          "output_type": "stream",
          "text": [
            "Model: \"sequential_1\"\n",
            "_________________________________________________________________\n",
            "Layer (type)                 Output Shape              Param #   \n",
            "=================================================================\n",
            "conv2d_1 (Conv2D)            (None, 28, 28, 32)        832       \n",
            "_________________________________________________________________\n",
            "max_pooling2d_1 (MaxPooling2 (None, 14, 14, 32)        0         \n",
            "_________________________________________________________________\n",
            "conv2d_2 (Conv2D)            (None, 14, 14, 64)        18496     \n",
            "_________________________________________________________________\n",
            "max_pooling2d_2 (MaxPooling2 (None, 7, 7, 64)          0         \n",
            "_________________________________________________________________\n",
            "flatten_1 (Flatten)          (None, 3136)              0         \n",
            "_________________________________________________________________\n",
            "dense_1 (Dense)              (None, 500)               1568500   \n",
            "_________________________________________________________________\n",
            "dense_2 (Dense)              (None, 200)               100200    \n",
            "=================================================================\n",
            "Total params: 1,688,028\n",
            "Trainable params: 1,688,028\n",
            "Non-trainable params: 0\n",
            "_________________________________________________________________\n",
            "Epoch 1/50\n",
            "3438/3438 [==============================] - 76s 22ms/step - loss: 0.5508 - accuracy: 0.8073 - val_loss: 0.4148 - val_accuracy: 0.8560\n",
            "Epoch 2/50\n",
            "3438/3438 [==============================] - 76s 22ms/step - loss: 0.3507 - accuracy: 0.8743 - val_loss: 0.3423 - val_accuracy: 0.8754\n",
            "Epoch 3/50\n",
            "3438/3438 [==============================] - 75s 22ms/step - loss: 0.2986 - accuracy: 0.8913 - val_loss: 0.3415 - val_accuracy: 0.8734\n",
            "Epoch 4/50\n",
            "3438/3438 [==============================] - 76s 22ms/step - loss: 0.2661 - accuracy: 0.9033 - val_loss: 0.2857 - val_accuracy: 0.8952\n",
            "Epoch 5/50\n",
            "3438/3438 [==============================] - 76s 22ms/step - loss: 0.2414 - accuracy: 0.9115 - val_loss: 0.2820 - val_accuracy: 0.8994\n",
            "Epoch 6/50\n",
            "3438/3438 [==============================] - 76s 22ms/step - loss: 0.2223 - accuracy: 0.9178 - val_loss: 0.2873 - val_accuracy: 0.8966\n",
            "Epoch 7/50\n",
            "3438/3438 [==============================] - 76s 22ms/step - loss: 0.2032 - accuracy: 0.9249 - val_loss: 0.2630 - val_accuracy: 0.9094\n",
            "Epoch 8/50\n",
            "3438/3438 [==============================] - 94s 27ms/step - loss: 0.1880 - accuracy: 0.9306 - val_loss: 0.2356 - val_accuracy: 0.9172\n",
            "Epoch 9/50\n",
            "3438/3438 [==============================] - 79s 23ms/step - loss: 0.1734 - accuracy: 0.9364 - val_loss: 0.2478 - val_accuracy: 0.9132\n",
            "Epoch 10/50\n",
            "3438/3438 [==============================] - 82s 24ms/step - loss: 0.1605 - accuracy: 0.9403 - val_loss: 0.2428 - val_accuracy: 0.9148\n",
            "Epoch 11/50\n",
            "3438/3438 [==============================] - 78s 23ms/step - loss: 0.1472 - accuracy: 0.9455 - val_loss: 0.2500 - val_accuracy: 0.9114\n",
            "Epoch 12/50\n",
            "3438/3438 [==============================] - 85s 25ms/step - loss: 0.1329 - accuracy: 0.9515 - val_loss: 0.2418 - val_accuracy: 0.9160\n",
            "Epoch 13/50\n",
            "3438/3438 [==============================] - 87s 25ms/step - loss: 0.1215 - accuracy: 0.9551 - val_loss: 0.2407 - val_accuracy: 0.9160\n",
            "Epoch 14/50\n",
            "3438/3438 [==============================] - 84s 24ms/step - loss: 0.1110 - accuracy: 0.9594 - val_loss: 0.2601 - val_accuracy: 0.9144\n",
            "Epoch 15/50\n",
            "3438/3438 [==============================] - 74s 22ms/step - loss: 0.1000 - accuracy: 0.9640 - val_loss: 0.2425 - val_accuracy: 0.9210\n",
            "Epoch 16/50\n",
            "3438/3438 [==============================] - 75s 22ms/step - loss: 0.0902 - accuracy: 0.9685 - val_loss: 0.2602 - val_accuracy: 0.9124\n",
            "Epoch 17/50\n",
            "3438/3438 [==============================] - 75s 22ms/step - loss: 0.0803 - accuracy: 0.9714 - val_loss: 0.2543 - val_accuracy: 0.9184\n",
            "Epoch 18/50\n",
            "3438/3438 [==============================] - 78s 23ms/step - loss: 0.0702 - accuracy: 0.9758 - val_loss: 0.2663 - val_accuracy: 0.9248\n",
            "Epoch 19/50\n",
            "3438/3438 [==============================] - 82s 24ms/step - loss: 0.0602 - accuracy: 0.9786 - val_loss: 0.2771 - val_accuracy: 0.9228\n",
            "Epoch 20/50\n",
            "3438/3438 [==============================] - 88s 26ms/step - loss: 0.0552 - accuracy: 0.9808 - val_loss: 0.3144 - val_accuracy: 0.9164\n",
            "Epoch 21/50\n",
            "3438/3438 [==============================] - 78s 23ms/step - loss: 0.0472 - accuracy: 0.9838 - val_loss: 0.2848 - val_accuracy: 0.9238\n",
            "Epoch 22/50\n",
            "3438/3438 [==============================] - 104s 30ms/step - loss: 0.0414 - accuracy: 0.9863 - val_loss: 0.3645 - val_accuracy: 0.9098\n",
            "Epoch 23/50\n",
            "3438/3438 [==============================] - 131s 38ms/step - loss: 0.0451 - accuracy: 0.9863 - val_loss: 0.3093 - val_accuracy: 0.9230\n",
            "Epoch 24/50\n",
            "3438/3438 [==============================] - 131s 38ms/step - loss: 0.0393 - accuracy: 0.9881 - val_loss: 0.3270 - val_accuracy: 0.9186\n",
            "Epoch 25/50\n",
            "3438/3438 [==============================] - 125s 36ms/step - loss: 0.0314 - accuracy: 0.9905 - val_loss: 0.3535 - val_accuracy: 0.9172\n",
            "Epoch 26/50\n",
            "3438/3438 [==============================] - 132s 38ms/step - loss: 0.0256 - accuracy: 0.9925 - val_loss: 0.3369 - val_accuracy: 0.9200\n",
            "Epoch 27/50\n",
            "3438/3438 [==============================] - 153s 45ms/step - loss: 0.0197 - accuracy: 0.9943 - val_loss: 0.3580 - val_accuracy: 0.91960 - ETA: 0s - loss: 0.0197 - accuracy: 0.99\n",
            "Epoch 28/50\n",
            "3438/3438 [==============================] - 173s 50ms/step - loss: 0.0161 - accuracy: 0.9955 - val_loss: 0.3671 - val_accuracy: 0.9230\n",
            "Epoch 29/50\n",
            "3438/3438 [==============================] - 184s 53ms/step - loss: 0.0109 - accuracy: 0.9975 - val_loss: 0.3680 - val_accuracy: 0.9230109 - accura - ETA: 27s - loss: 0.0109 - accuracy: 0. - ETA\n",
            "Epoch 30/50\n",
            "3438/3438 [==============================] - 181s 53ms/step - loss: 0.0095 - accuracy: 0.9978 - val_loss: 0.3883 - val_accuracy: 0.9226\n",
            "Epoch 31/50\n",
            "3438/3438 [==============================] - 184s 53ms/step - loss: 0.0079 - accuracy: 0.9983 - val_loss: 0.4153 - val_accuracy: 0.9216\n",
            "Epoch 32/50\n",
            "3438/3438 [==============================] - 214s 62ms/step - loss: 0.0056 - accuracy: 0.9991 - val_loss: 0.3927 - val_accuracy: 0.9246\n",
            "Epoch 33/50\n",
            "3438/3438 [==============================] - 156s 45ms/step - loss: 0.0036 - accuracy: 0.9996 - val_loss: 0.4205 - val_accuracy: 0.9210\n",
            "Epoch 34/50\n",
            "3438/3438 [==============================] - 157s 46ms/step - loss: 0.0032 - accuracy: 0.9998 - val_loss: 0.4150 - val_accuracy: 0.9254\n",
            "Epoch 35/50\n",
            "3438/3438 [==============================] - 173s 50ms/step - loss: 0.0025 - accuracy: 0.9996 - val_loss: 0.4227 - val_accuracy: 0.9244\n",
            "Epoch 36/50\n",
            "3438/3438 [==============================] - 188s 55ms/step - loss: 0.0016 - accuracy: 0.9999 - val_loss: 0.4341 - val_accuracy: 0.9262\n",
            "Epoch 37/50\n",
            "3438/3438 [==============================] - 220s 64ms/step - loss: 0.0011 - accuracy: 1.0000 - val_loss: 0.4447 - val_accuracy: 0.9270\n",
            "Epoch 38/50\n",
            "3438/3438 [==============================] - 160s 46ms/step - loss: 9.5099e-04 - accuracy: 1.0000 - val_loss: 0.4531 - val_accuracy: 0.9268\n",
            "Epoch 39/50\n",
            "3438/3438 [==============================] - 152s 44ms/step - loss: 8.3414e-04 - accuracy: 1.0000 - val_loss: 0.4578 - val_accuracy: 0.9264\n",
            "Epoch 40/50\n",
            "3438/3438 [==============================] - 185s 54ms/step - loss: 7.5369e-04 - accuracy: 1.0000 - val_loss: 0.4626 - val_accuracy: 0.9268\n",
            "Epoch 41/50\n",
            "3438/3438 [==============================] - 191s 56ms/step - loss: 6.9425e-04 - accuracy: 1.0000 - val_loss: 0.4665 - val_accuracy: 0.9254\n",
            "Epoch 42/50\n",
            "3438/3438 [==============================] - 205s 60ms/step - loss: 6.3412e-04 - accuracy: 1.0000 - val_loss: 0.4716 - val_accuracy: 0.9258\n",
            "Epoch 43/50\n",
            "3438/3438 [==============================] - 201s 58ms/step - loss: 5.9019e-04 - accuracy: 1.0000 - val_loss: 0.4758 - val_accuracy: 0.9258\n",
            "Epoch 44/50\n",
            "3438/3438 [==============================] - 219s 64ms/step - loss: 5.5522e-04 - accuracy: 1.0000 - val_loss: 0.4796 - val_accuracy: 0.9258\n",
            "Epoch 45/50\n",
            "3438/3438 [==============================] - 166s 48ms/step - loss: 5.2088e-04 - accuracy: 1.0000 - val_loss: 0.4845 - val_accuracy: 0.9258\n",
            "Epoch 46/50\n",
            "3438/3438 [==============================] - 81s 24ms/step - loss: 4.8861e-04 - accuracy: 1.0000 - val_loss: 0.4870 - val_accuracy: 0.9262\n",
            "Epoch 47/50\n",
            "3438/3438 [==============================] - 79s 23ms/step - loss: 4.5991e-04 - accuracy: 1.0000 - val_loss: 0.4879 - val_accuracy: 0.9266\n",
            "Epoch 48/50\n",
            "3438/3438 [==============================] - 78s 23ms/step - loss: 4.3941e-04 - accuracy: 1.0000 - val_loss: 0.4930 - val_accuracy: 0.9262\n",
            "Epoch 49/50\n",
            "3438/3438 [==============================] - 79s 23ms/step - loss: 4.1604e-04 - accuracy: 1.0000 - val_loss: 0.4980 - val_accuracy: 0.9270\n",
            "Epoch 50/50\n",
            "3438/3438 [==============================] - 80s 23ms/step - loss: 3.9809e-04 - accuracy: 1.0000 - val_loss: 0.4984 - val_accuracy: 0.9270\n",
            "313/313 - 2s - loss: 0.5434 - accuracy: 0.9225\n",
            "accuracy: 92.25%\n"
          ],
          "name": "stdout"
        },
        {
          "output_type": "display_data",
          "data": {
            "image/png": "[encoded data removed]",
            "text/plain": [
              "<Figure size 720x432 with 1 Axes>"
            ]
          },
          "metadata": {
            "tags": [],
            "needs_background": "light"
          }
        },
        {
          "output_type": "display_data",
          "data": {
            "image/png": "[encoded data removed]",
            "text/plain": [
              "<Figure size 720x432 with 1 Axes>"
            ]
          },
          "metadata": {
            "tags": [],
            "needs_background": "light"
          }
        }
      ]
    },
    {
      "cell_type": "markdown",
      "metadata": {
        "colab_type": "text",
        "id": "0nlE10XIjAid"
      },
      "source": [
        "### Test results discussion\n",
        "The best model that I found is the one in previous cell.\n",
        "\n",
        "The achieved accuracy on the test set is 92,25%"
      ]
    },
    {
      "cell_type": "markdown",
      "metadata": {
        "colab_type": "text",
        "id": "4sj0soo3bRIs"
      },
      "source": [
        "Besides, I also tested other models: \n",
        "* I tried to create a more complex CNN, but the more complex the net, the worse the performances on the test set.\n",
        "* Adding more layers(both convolutional and fully connected) just overfitted the training set and decreased the general performances. I tried also to mix convolutional and dense layers but this just led to worse performances.\n",
        "* The RELU activation function seems to be the better. I tried to change it but it led to worse general performances.\n",
        "* I tried also to increase the number of filters and size of pooling, but this just led to increase training time without increase performances.\n",
        "* The number of epochs i choose creates overfitting on training set but achieves the best performances on test set.\n",
        "* Adding regularization just avoids overfitting but doesn't increase accuracy.\n",
        "* I tried many batch sizes and 16 gave the best results. Set it to small values led to instability and to big values cannot capture features well.\n",
        "* Changing optimizer didn't performe better so i kept the first.\n",
        "\n",
        "\n",
        "Discussion:\n",
        "I tried many combinations of networks. I wanted to try to make a really complicateed network to see if performances increases but it would have taken too much time. The one I used took about 100 minutes. The accuracy i reached on test set isn't so great, I think it could be higher."
      ]
    }
  ]
}